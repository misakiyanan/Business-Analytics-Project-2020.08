{
 "cells": [
  {
   "cell_type": "code",
   "execution_count": 1,
   "metadata": {},
   "outputs": [],
   "source": [
    "import numpy as np\n",
    "import pandas as pd"
   ]
  },
  {
   "cell_type": "code",
   "execution_count": 3,
   "metadata": {},
   "outputs": [
    {
     "name": "stdout",
     "output_type": "stream",
     "text": [
      "[ 8 11] [ 0  1  2  3  4  5  6  7  9 10 12 13 14 15 16 17 18 19 20 21 22] [0, 1, 2, 3, 4, 5, 6, 7, 9, 10, 12, 13, 14, 15, 16, 17, 18, 19, 20, 21, 22]\n",
      "[ 6 15] [ 0  1  2  3  4  5  7  8  9 10 11 12 13 14 16 17 18 19 20 21 22] [0, 1, 2, 3, 4, 5, 7, 9, 10, 12, 13, 14, 16, 17, 18, 19, 20, 21, 22]\n",
      "[2 0] [ 1  3  4  5  6  7  8  9 10 11 12 13 14 15 16 17 18 19 20 21 22] [1, 3, 4, 5, 7, 9, 10, 12, 13, 14, 16, 17, 18, 19, 20, 21, 22]\n",
      "[17 12] [ 0  1  2  3  4  5  6  7  8  9 10 11 13 14 15 16 18 19 20 21 22] [1, 3, 4, 5, 7, 9, 10, 13, 14, 16, 18, 19, 20, 21, 22]\n",
      "[20 22] [ 0  1  2  3  4  5  6  7  8  9 10 11 12 13 14 15 16 17 18 19 21] [1, 3, 4, 5, 7, 9, 10, 13, 14, 16, 18, 19, 21]\n",
      "[ 9 13] [ 0  1  2  3  4  5  6  7  8 10 11 12 14 15 16 17 18 19 20 21 22] [1, 3, 4, 5, 7, 10, 14, 16, 18, 19, 21]\n",
      "[21  1] [ 0  2  3  4  5  6  7  8  9 10 11 12 13 14 15 16 17 18 19 20 22] [3, 4, 5, 7, 10, 14, 16, 18, 19]\n",
      "[18 10] [ 0  1  2  3  4  5  6  7  8  9 11 12 13 14 15 16 17 19 20 21 22] [3, 4, 5, 7, 14, 16, 19]\n",
      "[ 3 16] [ 0  1  2  4  5  6  7  8  9 10 11 12 13 14 15 17 18 19 20 21 22] [4, 5, 7, 14, 19]\n",
      "[19  4] [ 0  1  2  3  5  6  7  8  9 10 11 12 13 14 15 16 17 18 20 21 22] [5, 7, 14]\n"
     ]
    }
   ],
   "source": [
    "# ref.https://blog.csdn.net/DeniuHe/article/details/103102294\n",
    "n = 23\n",
    "CV = 10\n",
    "testNum = int(np.floor(n / CV))\n",
    "tempCake = [i for i in range(n)]\n",
    "for i in range(CV):\n",
    "    wholeCake = np.array([i for i in range(n)])\n",
    "    testIndices = np.random.choice(tempCake, size=testNum, replace=False)\n",
    "    trainIndices = np.delete(wholeCake, testIndices)\n",
    "    for ele in testIndices:\n",
    "        tempCake.remove(ele)\n",
    "    print(testIndices,trainIndices,tempCake)"
   ]
  },
  {
   "cell_type": "code",
   "execution_count": 72,
   "metadata": {},
   "outputs": [],
   "source": [
    "def train_test_split(data, k):\n",
    "    number_of_rows = data.shape[0]\n",
    "    number_of_test = int(np.floor(number_of_rows / k))\n",
    "    list_of_data_index = [i for i in range(number_of_rows)]\n",
    "    \n",
    "    result = pd.DataFrame(columns=['train_index','test_index'], index=[i for i in range(k)])\n",
    "    \n",
    "    for i in range(k):\n",
    "        total_index = np.array([i for i in range(number_of_rows)])\n",
    "        test_index = np.random.choice(list_of_data_index, size=number_of_test, replace=False)\n",
    "        train_index = np.delete(total_index, test_index)\n",
    "        \n",
    "        for index in test_index:\n",
    "            list_of_data_index.remove(index)\n",
    "        \n",
    "        # print(\"{0}th iteration:\\n\".format({i}), \"test index\\n\", test_index, \"\\ntrain index\\n\", train_index)\n",
    "        \n",
    "        result.iloc[i,0] = np.sort(train_index)\n",
    "        result.iloc[i,1] = np.sort(test_index)\n",
    "\n",
    "    return result"
   ]
  },
  {
   "cell_type": "code",
   "execution_count": 73,
   "metadata": {},
   "outputs": [
    {
     "data": {
      "text/html": [
       "<div>\n",
       "<style scoped>\n",
       "    .dataframe tbody tr th:only-of-type {\n",
       "        vertical-align: middle;\n",
       "    }\n",
       "\n",
       "    .dataframe tbody tr th {\n",
       "        vertical-align: top;\n",
       "    }\n",
       "\n",
       "    .dataframe thead th {\n",
       "        text-align: right;\n",
       "    }\n",
       "</style>\n",
       "<table border=\"1\" class=\"dataframe\">\n",
       "  <thead>\n",
       "    <tr style=\"text-align: right;\">\n",
       "      <th></th>\n",
       "      <th>train_index</th>\n",
       "      <th>test_index</th>\n",
       "    </tr>\n",
       "  </thead>\n",
       "  <tbody>\n",
       "    <tr>\n",
       "      <th>0</th>\n",
       "      <td>[0, 1, 2, 3, 4, 5, 6, 7, 8, 9, 10, 11, 12, 13,...</td>\n",
       "      <td>[29, 54, 57, 65, 74, 96, 97, 103, 105, 112, 11...</td>\n",
       "    </tr>\n",
       "    <tr>\n",
       "      <th>1</th>\n",
       "      <td>[0, 1, 2, 3, 4, 5, 6, 8, 9, 10, 11, 13, 14, 15...</td>\n",
       "      <td>[7, 12, 18, 42, 45, 67, 89, 109, 110, 118, 132...</td>\n",
       "    </tr>\n",
       "    <tr>\n",
       "      <th>2</th>\n",
       "      <td>[1, 2, 3, 4, 5, 6, 7, 8, 9, 10, 11, 12, 13, 14...</td>\n",
       "      <td>[0, 15, 26, 27, 32, 34, 60, 76, 82, 87, 102, 1...</td>\n",
       "    </tr>\n",
       "    <tr>\n",
       "      <th>3</th>\n",
       "      <td>[0, 1, 2, 3, 4, 5, 6, 7, 8, 10, 11, 12, 13, 14...</td>\n",
       "      <td>[9, 23, 39, 40, 49, 52, 56, 64, 70, 72, 75, 85...</td>\n",
       "    </tr>\n",
       "    <tr>\n",
       "      <th>4</th>\n",
       "      <td>[0, 1, 2, 3, 5, 6, 7, 8, 9, 10, 11, 12, 13, 14...</td>\n",
       "      <td>[4, 31, 36, 37, 43, 62, 66, 80, 86, 94, 100, 1...</td>\n",
       "    </tr>\n",
       "    <tr>\n",
       "      <th>5</th>\n",
       "      <td>[0, 1, 2, 3, 4, 5, 6, 7, 8, 9, 10, 12, 13, 15,...</td>\n",
       "      <td>[11, 14, 28, 61, 73, 77, 90, 93, 98, 99, 116, ...</td>\n",
       "    </tr>\n",
       "    <tr>\n",
       "      <th>6</th>\n",
       "      <td>[0, 1, 2, 3, 4, 5, 6, 7, 9, 10, 11, 12, 13, 14...</td>\n",
       "      <td>[8, 25, 38, 44, 53, 59, 71, 78, 79, 84, 88, 13...</td>\n",
       "    </tr>\n",
       "    <tr>\n",
       "      <th>7</th>\n",
       "      <td>[0, 2, 3, 4, 5, 7, 8, 9, 10, 11, 12, 14, 15, 1...</td>\n",
       "      <td>[1, 6, 13, 20, 22, 33, 35, 46, 48, 50, 83, 92,...</td>\n",
       "    </tr>\n",
       "    <tr>\n",
       "      <th>8</th>\n",
       "      <td>[0, 1, 2, 4, 5, 6, 7, 8, 9, 11, 12, 13, 14, 15...</td>\n",
       "      <td>[3, 10, 16, 19, 21, 24, 30, 41, 55, 81, 108, 1...</td>\n",
       "    </tr>\n",
       "    <tr>\n",
       "      <th>9</th>\n",
       "      <td>[0, 1, 3, 4, 6, 7, 8, 9, 10, 11, 12, 13, 14, 1...</td>\n",
       "      <td>[2, 5, 17, 47, 51, 58, 63, 68, 69, 91, 104, 12...</td>\n",
       "    </tr>\n",
       "  </tbody>\n",
       "</table>\n",
       "</div>"
      ],
      "text/plain": [
       "                                         train_index  \\\n",
       "0  [0, 1, 2, 3, 4, 5, 6, 7, 8, 9, 10, 11, 12, 13,...   \n",
       "1  [0, 1, 2, 3, 4, 5, 6, 8, 9, 10, 11, 13, 14, 15...   \n",
       "2  [1, 2, 3, 4, 5, 6, 7, 8, 9, 10, 11, 12, 13, 14...   \n",
       "3  [0, 1, 2, 3, 4, 5, 6, 7, 8, 10, 11, 12, 13, 14...   \n",
       "4  [0, 1, 2, 3, 5, 6, 7, 8, 9, 10, 11, 12, 13, 14...   \n",
       "5  [0, 1, 2, 3, 4, 5, 6, 7, 8, 9, 10, 12, 13, 15,...   \n",
       "6  [0, 1, 2, 3, 4, 5, 6, 7, 9, 10, 11, 12, 13, 14...   \n",
       "7  [0, 2, 3, 4, 5, 7, 8, 9, 10, 11, 12, 14, 15, 1...   \n",
       "8  [0, 1, 2, 4, 5, 6, 7, 8, 9, 11, 12, 13, 14, 15...   \n",
       "9  [0, 1, 3, 4, 6, 7, 8, 9, 10, 11, 12, 13, 14, 1...   \n",
       "\n",
       "                                          test_index  \n",
       "0  [29, 54, 57, 65, 74, 96, 97, 103, 105, 112, 11...  \n",
       "1  [7, 12, 18, 42, 45, 67, 89, 109, 110, 118, 132...  \n",
       "2  [0, 15, 26, 27, 32, 34, 60, 76, 82, 87, 102, 1...  \n",
       "3  [9, 23, 39, 40, 49, 52, 56, 64, 70, 72, 75, 85...  \n",
       "4  [4, 31, 36, 37, 43, 62, 66, 80, 86, 94, 100, 1...  \n",
       "5  [11, 14, 28, 61, 73, 77, 90, 93, 98, 99, 116, ...  \n",
       "6  [8, 25, 38, 44, 53, 59, 71, 78, 79, 84, 88, 13...  \n",
       "7  [1, 6, 13, 20, 22, 33, 35, 46, 48, 50, 83, 92,...  \n",
       "8  [3, 10, 16, 19, 21, 24, 30, 41, 55, 81, 108, 1...  \n",
       "9  [2, 5, 17, 47, 51, 58, 63, 68, 69, 91, 104, 12...  "
      ]
     },
     "execution_count": 73,
     "metadata": {},
     "output_type": "execute_result"
    }
   ],
   "source": [
    "data = pd.read_csv(\"train.csv\")\n",
    "train_test_split(data, 10)"
   ]
  },
  {
   "cell_type": "code",
   "execution_count": null,
   "metadata": {},
   "outputs": [],
   "source": [
    "# grid search for multiple parameters\n",
    "parameters = {}  # e.g.  {'max_depth':[3, 5, 7, 9], 'min_samples_leaf': [1, 2, 3, 4]}\n",
    "combinations = pd.DataFrame(columns=parameters.keys())"
   ]
  },
  {
   "cell_type": "code",
   "execution_count": null,
   "metadata": {},
   "outputs": [],
   "source": []
  }
 ],
 "metadata": {
  "kernelspec": {
   "display_name": "Python 3",
   "language": "python",
   "name": "python3"
  },
  "language_info": {
   "codemirror_mode": {
    "name": "ipython",
    "version": 3
   },
   "file_extension": ".py",
   "mimetype": "text/x-python",
   "name": "python",
   "nbconvert_exporter": "python",
   "pygments_lexer": "ipython3",
   "version": "3.8.3"
  }
 },
 "nbformat": 4,
 "nbformat_minor": 4
}
